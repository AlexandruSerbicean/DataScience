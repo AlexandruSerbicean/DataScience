{
 "cells": [
  {
   "cell_type": "markdown",
   "metadata": {},
   "source": [
    "#Python Code"
   ]
  },
  {
   "cell_type": "code",
   "execution_count": 2,
   "metadata": {},
   "outputs": [
    {
     "name": "stderr",
     "output_type": "stream",
     "text": [
      "C:\\Users\\crist\\AppData\\Local\\Packages\\PythonSoftwareFoundation.Python.3.12_qbz5n2kfra8p0\\LocalCache\\local-packages\\Python312\\site-packages\\tqdm\\auto.py:21: TqdmWarning: IProgress not found. Please update jupyter and ipywidgets. See https://ipywidgets.readthedocs.io/en/stable/user_install.html\n",
      "  from .autonotebook import tqdm as notebook_tqdm\n"
     ]
    },
    {
     "name": "stdout",
     "output_type": "stream",
     "text": [
      "Downloading from https://www.kaggle.com/api/v1/datasets/download/dhruvildave/new-york-city-taxi-trips-2019?dataset_version_number=4...\n"
     ]
    },
    {
     "name": "stderr",
     "output_type": "stream",
     "text": [
      "100%|██████████| 2.38G/2.38G [01:11<00:00, 35.7MB/s]"
     ]
    },
    {
     "name": "stdout",
     "output_type": "stream",
     "text": [
      "Extracting files...\n"
     ]
    },
    {
     "name": "stderr",
     "output_type": "stream",
     "text": [
      "\n"
     ]
    },
    {
     "name": "stdout",
     "output_type": "stream",
     "text": [
      "Path to dataset files: C:\\Users\\crist\\.cache\\kagglehub\\datasets\\dhruvildave\\new-york-city-taxi-trips-2019\\versions\\4\n"
     ]
    }
   ],
   "source": [
    "import kagglehub\n",
    "\n",
    "path = kagglehub.dataset_download(\"dhruvildave/new-york-city-taxi-trips-2019\")\n",
    "\n",
    "print(\"Path to dataset files:\", path)"
   ]
  },
  {
   "cell_type": "code",
   "execution_count": 4,
   "metadata": {},
   "outputs": [
    {
     "name": "stdout",
     "output_type": "stream",
     "text": [
      "Files in dataset: ['2019', 'data_dictionary.pdf', 'taxi_zones', 'taxi_zone_lookup.csv']\n"
     ]
    }
   ],
   "source": [
    "import os\n",
    "files = os.listdir(path)\n",
    "print(\"Files in dataset:\", files)"
   ]
  },
  {
   "cell_type": "code",
   "execution_count": 5,
   "metadata": {},
   "outputs": [
    {
     "name": "stdout",
     "output_type": "stream",
     "text": [
      "Files in 2019 folder: ['2019-01.sqlite', '2019-02.sqlite', '2019-03.sqlite', '2019-04.sqlite', '2019-05.sqlite', '2019-06.sqlite', '2019-07.sqlite', '2019-08.sqlite', '2019-09.sqlite', '2019-10.sqlite', '2019-11.sqlite', '2019-12.sqlite']\n",
      "Files in taxi_zones folder: ['taxi_zones.dbf', 'taxi_zones.prj', 'taxi_zones.sbn', 'taxi_zones.sbx', 'taxi_zones.shp', 'taxi_zones.shp.xml', 'taxi_zones.shx']\n"
     ]
    }
   ],
   "source": [
    "dataset_path = path\n",
    "\n",
    "year_2019_path = os.path.join(dataset_path, \"2019\")\n",
    "if os.path.exists(year_2019_path):\n",
    "    print(\"Files in 2019 folder:\", os.listdir(year_2019_path))\n",
    "\n",
    "taxi_zones_path = os.path.join(dataset_path, \"taxi_zones\")\n",
    "if os.path.exists(taxi_zones_path):\n",
    "    print(\"Files in taxi_zones folder:\", os.listdir(taxi_zones_path))"
   ]
  },
  {
   "cell_type": "code",
   "execution_count": 6,
   "metadata": {},
   "outputs": [
    {
     "name": "stdout",
     "output_type": "stream",
     "text": [
      "Processing C:\\Users\\crist\\.cache\\kagglehub\\datasets\\dhruvildave\\new-york-city-taxi-trips-2019\\versions\\4\\2019\\2019-01.sqlite...\n",
      "Finished C:\\Users\\crist\\.cache\\kagglehub\\datasets\\dhruvildave\\new-york-city-taxi-trips-2019\\versions\\4\\2019\\2019-01.sqlite\n",
      "Processing C:\\Users\\crist\\.cache\\kagglehub\\datasets\\dhruvildave\\new-york-city-taxi-trips-2019\\versions\\4\\2019\\2019-02.sqlite...\n",
      "Finished C:\\Users\\crist\\.cache\\kagglehub\\datasets\\dhruvildave\\new-york-city-taxi-trips-2019\\versions\\4\\2019\\2019-02.sqlite\n",
      "Processing C:\\Users\\crist\\.cache\\kagglehub\\datasets\\dhruvildave\\new-york-city-taxi-trips-2019\\versions\\4\\2019\\2019-03.sqlite...\n",
      "Finished C:\\Users\\crist\\.cache\\kagglehub\\datasets\\dhruvildave\\new-york-city-taxi-trips-2019\\versions\\4\\2019\\2019-03.sqlite\n",
      "Processing C:\\Users\\crist\\.cache\\kagglehub\\datasets\\dhruvildave\\new-york-city-taxi-trips-2019\\versions\\4\\2019\\2019-04.sqlite...\n",
      "Finished C:\\Users\\crist\\.cache\\kagglehub\\datasets\\dhruvildave\\new-york-city-taxi-trips-2019\\versions\\4\\2019\\2019-04.sqlite\n",
      "Processing C:\\Users\\crist\\.cache\\kagglehub\\datasets\\dhruvildave\\new-york-city-taxi-trips-2019\\versions\\4\\2019\\2019-05.sqlite...\n",
      "Finished C:\\Users\\crist\\.cache\\kagglehub\\datasets\\dhruvildave\\new-york-city-taxi-trips-2019\\versions\\4\\2019\\2019-05.sqlite\n",
      "Processing C:\\Users\\crist\\.cache\\kagglehub\\datasets\\dhruvildave\\new-york-city-taxi-trips-2019\\versions\\4\\2019\\2019-06.sqlite...\n",
      "Finished C:\\Users\\crist\\.cache\\kagglehub\\datasets\\dhruvildave\\new-york-city-taxi-trips-2019\\versions\\4\\2019\\2019-06.sqlite\n",
      "Processing C:\\Users\\crist\\.cache\\kagglehub\\datasets\\dhruvildave\\new-york-city-taxi-trips-2019\\versions\\4\\2019\\2019-07.sqlite...\n",
      "Finished C:\\Users\\crist\\.cache\\kagglehub\\datasets\\dhruvildave\\new-york-city-taxi-trips-2019\\versions\\4\\2019\\2019-07.sqlite\n",
      "Processing C:\\Users\\crist\\.cache\\kagglehub\\datasets\\dhruvildave\\new-york-city-taxi-trips-2019\\versions\\4\\2019\\2019-08.sqlite...\n",
      "Finished C:\\Users\\crist\\.cache\\kagglehub\\datasets\\dhruvildave\\new-york-city-taxi-trips-2019\\versions\\4\\2019\\2019-08.sqlite\n",
      "Processing C:\\Users\\crist\\.cache\\kagglehub\\datasets\\dhruvildave\\new-york-city-taxi-trips-2019\\versions\\4\\2019\\2019-09.sqlite...\n",
      "Finished C:\\Users\\crist\\.cache\\kagglehub\\datasets\\dhruvildave\\new-york-city-taxi-trips-2019\\versions\\4\\2019\\2019-09.sqlite\n",
      "Processing C:\\Users\\crist\\.cache\\kagglehub\\datasets\\dhruvildave\\new-york-city-taxi-trips-2019\\versions\\4\\2019\\2019-10.sqlite...\n",
      "Finished C:\\Users\\crist\\.cache\\kagglehub\\datasets\\dhruvildave\\new-york-city-taxi-trips-2019\\versions\\4\\2019\\2019-10.sqlite\n",
      "Processing C:\\Users\\crist\\.cache\\kagglehub\\datasets\\dhruvildave\\new-york-city-taxi-trips-2019\\versions\\4\\2019\\2019-11.sqlite...\n",
      "Finished C:\\Users\\crist\\.cache\\kagglehub\\datasets\\dhruvildave\\new-york-city-taxi-trips-2019\\versions\\4\\2019\\2019-11.sqlite\n",
      "Processing C:\\Users\\crist\\.cache\\kagglehub\\datasets\\dhruvildave\\new-york-city-taxi-trips-2019\\versions\\4\\2019\\2019-12.sqlite...\n",
      "Finished C:\\Users\\crist\\.cache\\kagglehub\\datasets\\dhruvildave\\new-york-city-taxi-trips-2019\\versions\\4\\2019\\2019-12.sqlite\n",
      "All data saved to CSV without crashing!\n"
     ]
    }
   ],
   "source": [
    "import sqlite3\n",
    "import pandas as pd\n",
    "import os\n",
    "\n",
    "output_csv = \"nyc_taxi_2019_combined.csv\"\n",
    "\n",
    "sqlite_files = [os.path.join(path, \"2019\", f) for f in os.listdir(os.path.join(path, \"2019\")) if f.endswith(\".sqlite\")]\n",
    "\n",
    "first_file = sqlite_files[0]\n",
    "conn = sqlite3.connect(first_file)\n",
    "df_temp = pd.read_sql(\"SELECT * FROM tripdata LIMIT 1000;\", conn) \n",
    "conn.close()\n",
    "df_temp.to_csv(output_csv, index=False)  \n",
    "\n",
    "for file in sqlite_files:\n",
    "    print(f\"Processing {file}...\")\n",
    "    conn = sqlite3.connect(file)\n",
    "\n",
    "    chunk_size = 500000 \n",
    "    for chunk in pd.read_sql(\"SELECT * FROM tripdata;\", conn, chunksize=chunk_size):\n",
    "        chunk.to_csv(output_csv, mode='a', header=False, index=False)\n",
    "\n",
    "    conn.close()\n",
    "    print(f\"Finished {file}\")\n",
    "\n",
    "print(\"All data saved to CSV without crashing!\")"
   ]
  }
 ],
 "metadata": {
  "kernelspec": {
   "display_name": "Python 3",
   "language": "python",
   "name": "python3"
  },
  "language_info": {
   "codemirror_mode": {
    "name": "ipython",
    "version": 3
   },
   "file_extension": ".py",
   "mimetype": "text/x-python",
   "name": "python",
   "nbconvert_exporter": "python",
   "pygments_lexer": "ipython3",
   "version": "3.12.9"
  }
 },
 "nbformat": 4,
 "nbformat_minor": 2
}
